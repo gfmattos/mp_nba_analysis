{
 "cells": [
  {
   "attachments": {},
   "cell_type": "markdown",
   "metadata": {},
   "source": [
    "# **1. Import Libraries**"
   ]
  },
  {
   "cell_type": "code",
   "execution_count": 8,
   "metadata": {},
   "outputs": [],
   "source": [
    "import requests\n",
    "import numpy\n",
    "import pandas as pd"
   ]
  },
  {
   "attachments": {},
   "cell_type": "markdown",
   "metadata": {},
   "source": [
    "# **2. Endpoints Research**\n",
    "\n",
    "## **Players Related Info:**\n",
    "\n",
    "- <pre><b>CommonAllPlayers</b>             # Get all the player' ids from all seasons\n",
    "https://github.com/swar/nba_api/blob/master/docs/nba_api/stats/endpoints/commonallplayers.md\n",
    "</pre>\n",
    "\n",
    "- <pre><b>CommonPlayerInfo</b>             # Extra information related to the players\n",
    "https://github.com/swar/nba_api/blob/master/docs/nba_api/stats/endpoints/commonplayerinfo.md\n",
    "</pre>\n",
    "\n",
    "- <pre><b>PlayerAwards</b>                 # Check correlation between teams and allstar players\n",
    "https://github.com/swar/nba_api/blob/master/docs/nba_api/stats/endpoints/playerawards.md\n",
    "</pre>\n",
    "\n",
    "- <pre><b>LeagueDashPlayerBioStats</b>     # Check correlation between physical aspects and performance\n",
    "https://github.com/swar/nba_api/blob/master/docs/nba_api/stats/endpoints/leaguedashplayerbiostats.md\n",
    "</pre>\n",
    "\n",
    "## **Teams Related Info:**\n",
    "\n",
    "- <pre><b>CommonTeamRoster</b>             # Check each player position\n",
    "https://github.com/swar/nba_api/blob/master/docs/nba_api/stats/endpoints/commonteamroster.md\n",
    "</pre>\n",
    "\n",
    "- <pre><b>TeamDetails</b>                  # Check team awards\n",
    "https://github.com/swar/nba_api/blob/master/docs/nba_api/stats/endpoints/teamdetails.md\n",
    "</pre>\n",
    "\n",
    "- <pre><b>CumeStatsTeam</b>                # Explore Raptors stats\n",
    "https://github.com/swar/nba_api/blob/master/docs/nba_api/stats/endpoints/cumestatsteam.md\n",
    "</pre>\n",
    "\n",
    "## **Games Related Info:**\n",
    "\n",
    "- <pre><b>BoxScoreSummaryV2</b>            # Check correlation between winning and points per quarter\n",
    "https://github.com/swar/nba_api/blob/master/docs/nba_api/stats/endpoints/boxscoresummaryv2.md\n",
    "</pre>"
   ]
  },
  {
   "attachments": {},
   "cell_type": "markdown",
   "metadata": {},
   "source": [
    "- CumeStatsTeam -> https://github.com/swar/nba_api/blob/master/docs/nba_api/stats/endpoints/cumestatsteam.md\n",
    "- LeagueDashTeamStats -> https://github.com/swar/nba_api/blob/master/docs/nba_api/stats/endpoints/leaguedashteamstats.md"
   ]
  },
  {
   "cell_type": "code",
   "execution_count": 9,
   "metadata": {},
   "outputs": [],
   "source": [
    "from nba_api.stats.endpoints import commonallplayers, commonplayerinfo, playerawards, leaguedashplayerbiostats, teamdetails, commonteamroster, boxscoresummaryv2"
   ]
  },
  {
   "cell_type": "code",
   "execution_count": 22,
   "metadata": {},
   "outputs": [],
   "source": [
    "#all_players_info = commonallplayers.CommonAllPlayers(league_id='00', season='2002-03')\n",
    "#all_players_df = all_players_info.get_data_frames()[0]\n",
    "#all_players = all_players_df.PERSON_ID"
   ]
  },
  {
   "attachments": {},
   "cell_type": "markdown",
   "metadata": {},
   "source": [
    "# **3. Functions**"
   ]
  },
  {
   "cell_type": "code",
   "execution_count": 40,
   "metadata": {},
   "outputs": [],
   "source": [
    "seasons = [f'{x}-{str(x+1)[2:]}' for x in range(1996,2023)]"
   ]
  },
  {
   "cell_type": "code",
   "execution_count": 89,
   "metadata": {},
   "outputs": [],
   "source": [
    "def leaguedash_season(season, leaguedash_df):\n",
    "\n",
    "    try:\n",
    "        leaguedash_info = leaguedashplayerbiostats.LeagueDashPlayerBioStats(league_id='00', season=season)\n",
    "        df_append = leaguedash_info.get_data_frames()[0]\n",
    "        df_append['SEASON'] = season\n",
    "        leaguedash_df = pd.concat([leaguedash_df, df_append], ignore_index=True)\n",
    "    except:\n",
    "        pass\n",
    "    \n",
    "    return leaguedash_df"
   ]
  },
  {
   "cell_type": "code",
   "execution_count": 90,
   "metadata": {},
   "outputs": [],
   "source": [
    "def leaguedash_allseasons(seasons):\n",
    "    \n",
    "    leaguedash_df = pd.DataFrame()\n",
    "\n",
    "    for season in seasons:\n",
    "        leaguedash_df = leaguedash_season(season, leaguedash_df)\n",
    "    \n",
    "    all_seasons = leaguedash_df.SEASON.unique()\n",
    "    missing = [x for x in seasons if x not in all_seasons]\n",
    "\n",
    "    while missing:\n",
    "        leaguedash_df = leaguedash_season(season, leaguedash_df)\n",
    "\n",
    "        all_seasons = leaguedash_df.SEASON.unique()\n",
    "        missing = [x for x in seasons if x not in all_seasons]\n",
    "    \n",
    "    return leaguedash_df\n"
   ]
  },
  {
   "cell_type": "code",
   "execution_count": 91,
   "metadata": {},
   "outputs": [],
   "source": [
    "leaguedash_df = leaguedash_allseasons(seasons)"
   ]
  },
  {
   "cell_type": "code",
   "execution_count": 83,
   "metadata": {},
   "outputs": [
    {
     "data": {
      "text/html": [
       "<div>\n",
       "<style scoped>\n",
       "    .dataframe tbody tr th:only-of-type {\n",
       "        vertical-align: middle;\n",
       "    }\n",
       "\n",
       "    .dataframe tbody tr th {\n",
       "        vertical-align: top;\n",
       "    }\n",
       "\n",
       "    .dataframe thead th {\n",
       "        text-align: right;\n",
       "    }\n",
       "</style>\n",
       "<table border=\"1\" class=\"dataframe\">\n",
       "  <thead>\n",
       "    <tr style=\"text-align: right;\">\n",
       "      <th></th>\n",
       "      <th>PLAYER_ID</th>\n",
       "      <th>PLAYER_NAME</th>\n",
       "      <th>TEAM_ID</th>\n",
       "      <th>TEAM_ABBREVIATION</th>\n",
       "      <th>AGE</th>\n",
       "      <th>PLAYER_HEIGHT</th>\n",
       "      <th>PLAYER_HEIGHT_INCHES</th>\n",
       "      <th>PLAYER_WEIGHT</th>\n",
       "      <th>COLLEGE</th>\n",
       "      <th>COUNTRY</th>\n",
       "      <th>...</th>\n",
       "      <th>PTS</th>\n",
       "      <th>REB</th>\n",
       "      <th>AST</th>\n",
       "      <th>NET_RATING</th>\n",
       "      <th>OREB_PCT</th>\n",
       "      <th>DREB_PCT</th>\n",
       "      <th>USG_PCT</th>\n",
       "      <th>TS_PCT</th>\n",
       "      <th>AST_PCT</th>\n",
       "      <th>SEASON</th>\n",
       "    </tr>\n",
       "  </thead>\n",
       "  <tbody>\n",
       "    <tr>\n",
       "      <th>0</th>\n",
       "      <td>920</td>\n",
       "      <td>A.C. Green</td>\n",
       "      <td>1.610613e+09</td>\n",
       "      <td>DAL</td>\n",
       "      <td>33.0</td>\n",
       "      <td>6-9</td>\n",
       "      <td>81.0</td>\n",
       "      <td>225</td>\n",
       "      <td>Oregon State</td>\n",
       "      <td>USA</td>\n",
       "      <td>...</td>\n",
       "      <td>597</td>\n",
       "      <td>656</td>\n",
       "      <td>69</td>\n",
       "      <td>-7.4</td>\n",
       "      <td>0.089</td>\n",
       "      <td>0.184</td>\n",
       "      <td>0.118</td>\n",
       "      <td>0.523</td>\n",
       "      <td>0.045</td>\n",
       "      <td>1996-97</td>\n",
       "    </tr>\n",
       "    <tr>\n",
       "      <th>1</th>\n",
       "      <td>243</td>\n",
       "      <td>Aaron McKie</td>\n",
       "      <td>1.610613e+09</td>\n",
       "      <td>DET</td>\n",
       "      <td>24.0</td>\n",
       "      <td>6-5</td>\n",
       "      <td>77.0</td>\n",
       "      <td>209</td>\n",
       "      <td>Temple</td>\n",
       "      <td>USA</td>\n",
       "      <td>...</td>\n",
       "      <td>433</td>\n",
       "      <td>221</td>\n",
       "      <td>161</td>\n",
       "      <td>3.7</td>\n",
       "      <td>0.026</td>\n",
       "      <td>0.113</td>\n",
       "      <td>0.142</td>\n",
       "      <td>0.524</td>\n",
       "      <td>0.163</td>\n",
       "      <td>1996-97</td>\n",
       "    </tr>\n",
       "    <tr>\n",
       "      <th>2</th>\n",
       "      <td>1425</td>\n",
       "      <td>Aaron Williams</td>\n",
       "      <td>1.610613e+09</td>\n",
       "      <td>VAN</td>\n",
       "      <td>25.0</td>\n",
       "      <td>6-9</td>\n",
       "      <td>81.0</td>\n",
       "      <td>225</td>\n",
       "      <td>Xavier</td>\n",
       "      <td>USA</td>\n",
       "      <td>...</td>\n",
       "      <td>203</td>\n",
       "      <td>143</td>\n",
       "      <td>15</td>\n",
       "      <td>-9.3</td>\n",
       "      <td>0.113</td>\n",
       "      <td>0.144</td>\n",
       "      <td>0.161</td>\n",
       "      <td>0.599</td>\n",
       "      <td>0.051</td>\n",
       "      <td>1996-97</td>\n",
       "    </tr>\n",
       "    <tr>\n",
       "      <th>3</th>\n",
       "      <td>768</td>\n",
       "      <td>Acie Earl</td>\n",
       "      <td>1.610613e+09</td>\n",
       "      <td>MIL</td>\n",
       "      <td>27.0</td>\n",
       "      <td>6-11</td>\n",
       "      <td>83.0</td>\n",
       "      <td>240</td>\n",
       "      <td>Iowa</td>\n",
       "      <td>USA</td>\n",
       "      <td>...</td>\n",
       "      <td>188</td>\n",
       "      <td>96</td>\n",
       "      <td>20</td>\n",
       "      <td>-6.4</td>\n",
       "      <td>0.067</td>\n",
       "      <td>0.122</td>\n",
       "      <td>0.220</td>\n",
       "      <td>0.435</td>\n",
       "      <td>0.077</td>\n",
       "      <td>1996-97</td>\n",
       "    </tr>\n",
       "    <tr>\n",
       "      <th>4</th>\n",
       "      <td>228</td>\n",
       "      <td>Adam Keefe</td>\n",
       "      <td>1.610613e+09</td>\n",
       "      <td>UTA</td>\n",
       "      <td>27.0</td>\n",
       "      <td>6-9</td>\n",
       "      <td>81.0</td>\n",
       "      <td>241</td>\n",
       "      <td>Stanford</td>\n",
       "      <td>USA</td>\n",
       "      <td>...</td>\n",
       "      <td>235</td>\n",
       "      <td>216</td>\n",
       "      <td>32</td>\n",
       "      <td>7.2</td>\n",
       "      <td>0.096</td>\n",
       "      <td>0.158</td>\n",
       "      <td>0.124</td>\n",
       "      <td>0.572</td>\n",
       "      <td>0.051</td>\n",
       "      <td>1996-97</td>\n",
       "    </tr>\n",
       "  </tbody>\n",
       "</table>\n",
       "<p>5 rows × 24 columns</p>\n",
       "</div>"
      ],
      "text/plain": [
       "   PLAYER_ID     PLAYER_NAME       TEAM_ID TEAM_ABBREVIATION   AGE  \\\n",
       "0        920      A.C. Green  1.610613e+09               DAL  33.0   \n",
       "1        243     Aaron McKie  1.610613e+09               DET  24.0   \n",
       "2       1425  Aaron Williams  1.610613e+09               VAN  25.0   \n",
       "3        768       Acie Earl  1.610613e+09               MIL  27.0   \n",
       "4        228      Adam Keefe  1.610613e+09               UTA  27.0   \n",
       "\n",
       "  PLAYER_HEIGHT  PLAYER_HEIGHT_INCHES PLAYER_WEIGHT       COLLEGE COUNTRY  \\\n",
       "0           6-9                  81.0           225  Oregon State     USA   \n",
       "1           6-5                  77.0           209        Temple     USA   \n",
       "2           6-9                  81.0           225        Xavier     USA   \n",
       "3          6-11                  83.0           240          Iowa     USA   \n",
       "4           6-9                  81.0           241      Stanford     USA   \n",
       "\n",
       "   ...  PTS  REB  AST  NET_RATING  OREB_PCT  DREB_PCT  USG_PCT  TS_PCT  \\\n",
       "0  ...  597  656   69        -7.4     0.089     0.184    0.118   0.523   \n",
       "1  ...  433  221  161         3.7     0.026     0.113    0.142   0.524   \n",
       "2  ...  203  143   15        -9.3     0.113     0.144    0.161   0.599   \n",
       "3  ...  188   96   20        -6.4     0.067     0.122    0.220   0.435   \n",
       "4  ...  235  216   32         7.2     0.096     0.158    0.124   0.572   \n",
       "\n",
       "   AST_PCT   SEASON  \n",
       "0    0.045  1996-97  \n",
       "1    0.163  1996-97  \n",
       "2    0.051  1996-97  \n",
       "3    0.077  1996-97  \n",
       "4    0.051  1996-97  \n",
       "\n",
       "[5 rows x 24 columns]"
      ]
     },
     "execution_count": 83,
     "metadata": {},
     "output_type": "execute_result"
    }
   ],
   "source": [
    "leaguedash_df.head()"
   ]
  },
  {
   "cell_type": "code",
   "execution_count": null,
   "metadata": {},
   "outputs": [
    {
     "data": {
      "text/plain": [
       "(11904, 24)"
      ]
     },
     "execution_count": 84,
     "metadata": {},
     "output_type": "execute_result"
    }
   ],
   "source": [
    "leaguedash_df.shape"
   ]
  },
  {
   "cell_type": "code",
   "execution_count": null,
   "metadata": {},
   "outputs": [
    {
     "data": {
      "text/plain": [
       "array(['1996-97', '1997-98', '1998-99', '1999-00', '2000-01', '2001-02',\n",
       "       '2003-04', '2004-05', '2005-06', '2006-07', '2007-08', '2008-09',\n",
       "       '2009-10', '2010-11', '2012-13', '2013-14', '2014-15', '2015-16',\n",
       "       '2016-17', '2017-18', '2018-19', '2019-20', '2020-21', '2021-22',\n",
       "       '2022-23'], dtype=object)"
      ]
     },
     "execution_count": 86,
     "metadata": {},
     "output_type": "execute_result"
    }
   ],
   "source": [
    "len(leaguedash_df.SEASON.unique()) == len(seasons)"
   ]
  },
  {
   "cell_type": "code",
   "execution_count": null,
   "metadata": {},
   "outputs": [],
   "source": [
    "player_id = 2544  #Lebron"
   ]
  },
  {
   "cell_type": "code",
   "execution_count": null,
   "metadata": {},
   "outputs": [],
   "source": [
    "player_awards_info = playerawards.PlayerAwards(player_id=player_id)\n",
    "player_awards_df = player_awards_info.get_data_frames()[0]"
   ]
  },
  {
   "cell_type": "code",
   "execution_count": null,
   "metadata": {},
   "outputs": [],
   "source": [
    "player_awards_df"
   ]
  }
 ],
 "metadata": {
  "kernelspec": {
   "display_name": ".venv",
   "language": "python",
   "name": "python3"
  },
  "language_info": {
   "codemirror_mode": {
    "name": "ipython",
    "version": 3
   },
   "file_extension": ".py",
   "mimetype": "text/x-python",
   "name": "python",
   "nbconvert_exporter": "python",
   "pygments_lexer": "ipython3",
   "version": "3.8.8"
  },
  "orig_nbformat": 4,
  "vscode": {
   "interpreter": {
    "hash": "a9ea80278e1093bfa5c405612aca9941bc8a774c96bd5ddafc79043d2f71b61b"
   }
  }
 },
 "nbformat": 4,
 "nbformat_minor": 2
}
