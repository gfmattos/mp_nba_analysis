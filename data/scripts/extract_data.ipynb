{
 "cells": [
  {
   "attachments": {},
   "cell_type": "markdown",
   "metadata": {},
   "source": [
    "# **1. Import Libraries**"
   ]
  },
  {
   "cell_type": "code",
   "execution_count": 8,
   "metadata": {},
   "outputs": [],
   "source": [
    "import requests\n",
    "import numpy as np\n",
    "import pandas as pd\n",
    "import time\n",
    "import joblib"
   ]
  },
  {
   "attachments": {},
   "cell_type": "markdown",
   "metadata": {},
   "source": [
    "# **2. Endpoints Research**\n",
    "\n",
    "## **Players Related Info:**\n",
    "\n",
    "- <pre><b>CommonAllPlayers</b>             # Get all the player' ids from all seasons\n",
    "https://github.com/swar/nba_api/blob/master/docs/nba_api/stats/endpoints/commonallplayers.md\n",
    "</pre>\n",
    "\n",
    "- <pre><b>CommonPlayerInfo</b>             # Extra information related to the players\n",
    "https://github.com/swar/nba_api/blob/master/docs/nba_api/stats/endpoints/commonplayerinfo.md\n",
    "</pre>\n",
    "\n",
    "- <pre><b>PlayerAwards</b>                 # Check correlation between teams and allstar players\n",
    "https://github.com/swar/nba_api/blob/master/docs/nba_api/stats/endpoints/playerawards.md\n",
    "</pre>\n",
    "\n",
    "- <pre><b>LeagueDashPlayerBioStats</b>     # Check correlation between physical aspects and performance\n",
    "https://github.com/swar/nba_api/blob/master/docs/nba_api/stats/endpoints/leaguedashplayerbiostats.md\n",
    "</pre>\n",
    "\n",
    "## **Teams Related Info:**\n",
    "\n",
    "- <pre><b>CommonTeamRoster</b>             # Check each player position\n",
    "https://github.com/swar/nba_api/blob/master/docs/nba_api/stats/endpoints/commonteamroster.md\n",
    "</pre>\n",
    "\n",
    "- <pre><b>TeamDetails</b>                  # Check team awards\n",
    "https://github.com/swar/nba_api/blob/master/docs/nba_api/stats/endpoints/teamdetails.md\n",
    "</pre>\n",
    "\n",
    "- <pre><b>CumeStatsTeam</b>                # Explore Raptors stats\n",
    "https://github.com/swar/nba_api/blob/master/docs/nba_api/stats/endpoints/cumestatsteam.md\n",
    "</pre>\n",
    "\n",
    "## **Games Related Info:**\n",
    "\n",
    "- <pre><b>BoxScoreSummaryV2</b>            # Check correlation between winning and points per quarter\n",
    "https://github.com/swar/nba_api/blob/master/docs/nba_api/stats/endpoints/boxscoresummaryv2.md\n",
    "</pre>"
   ]
  },
  {
   "attachments": {},
   "cell_type": "markdown",
   "metadata": {},
   "source": [
    "- CumeStatsTeam -> https://github.com/swar/nba_api/blob/master/docs/nba_api/stats/endpoints/cumestatsteam.md\n",
    "- LeagueDashTeamStats -> https://github.com/swar/nba_api/blob/master/docs/nba_api/stats/endpoints/leaguedashteamstats.md"
   ]
  },
  {
   "cell_type": "code",
   "execution_count": 9,
   "metadata": {},
   "outputs": [],
   "source": [
    "from nba_api.stats.endpoints import commonallplayers, commonplayerinfo, playerawards, leaguedashplayerbiostats, teamdetails, commonteamroster, boxscoresummaryv2"
   ]
  },
  {
   "attachments": {},
   "cell_type": "markdown",
   "metadata": {},
   "source": [
    "# **3. Functions**"
   ]
  },
  {
   "attachments": {},
   "cell_type": "markdown",
   "metadata": {},
   "source": [
    "## Testing leaguedash_season Function"
   ]
  },
  {
   "cell_type": "code",
   "execution_count": 10,
   "metadata": {},
   "outputs": [],
   "source": [
    "def leaguedash_season(season, leaguedash_df):\n",
    "\n",
    "    try:\n",
    "        leaguedash_info = leaguedashplayerbiostats.LeagueDashPlayerBioStats(league_id='00', season=season)\n",
    "        df_append = leaguedash_info.get_data_frames()[0]\n",
    "        df_append['SEASON'] = season\n",
    "        leaguedash_df = pd.concat([leaguedash_df, df_append], ignore_index=True)\n",
    "\n",
    "        t = time.localtime()\n",
    "        current_time = time.strftime(\"%H:%M:%S\", t)\n",
    "\n",
    "        print(f'Data from season {season} has been retrieved successfully at {current_time}')\n",
    "        \n",
    "    except:\n",
    "        t = time.localtime()\n",
    "        current_time = time.strftime(\"%H:%M:%S\", t)\n",
    "\n",
    "        print(f'ERROR: Failed to retrieve data from season {season} at {current_time}')\n",
    "        pass\n",
    "    \n",
    "    return leaguedash_df"
   ]
  },
  {
   "cell_type": "code",
   "execution_count": 11,
   "metadata": {},
   "outputs": [],
   "source": [
    "def leaguedash_allseasons(fisrt_season=1996, last_season=2023, api_wait=30):\n",
    "\n",
    "    seasons = [f'{x}-{str(x+1)[2:]}' for x in range(fisrt_season,last_season)]\n",
    "    \n",
    "    leaguedash_df = pd.DataFrame()\n",
    "\n",
    "    for season in seasons:\n",
    "        leaguedash_df = leaguedash_season(season, leaguedash_df)\n",
    "        print(f'Sleeping for {api_wait} seconds...')\n",
    "        time.sleep(api_wait)\n",
    "    \n",
    "    all_seasons = leaguedash_df.SEASON.unique()\n",
    "    missing = [x for x in seasons if x not in all_seasons]\n",
    "\n",
    "    if missing:\n",
    "        print(f'Total missing seasons: {len(missing)}')\n",
    "        print(f'Starting the api`s recall for the following missing seasons: \\n{missing}')\n",
    "\n",
    "    while missing:\n",
    "\n",
    "        leaguedash_df = leaguedash_season(missing[0], leaguedash_df)\n",
    "        print(f'Sleeping for {api_wait} seconds...')\n",
    "        time.sleep(api_wait)\n",
    "\n",
    "        all_seasons = leaguedash_df.SEASON.unique()\n",
    "        missing = [x for x in seasons if x not in all_seasons]\n",
    "    \n",
    "    leaguedash_df.sort_values('SEASON', inplace=True, ignore_index=True)\n",
    "    \n",
    "    return leaguedash_df\n"
   ]
  },
  {
   "cell_type": "code",
   "execution_count": 5,
   "metadata": {},
   "outputs": [],
   "source": [
    "#leaguedash_df = leaguedash_allseasons()"
   ]
  },
  {
   "attachments": {},
   "cell_type": "markdown",
   "metadata": {},
   "source": [
    "## Testing all_playersids Function"
   ]
  },
  {
   "cell_type": "code",
   "execution_count": 6,
   "metadata": {},
   "outputs": [],
   "source": [
    "def all_playersids():\n",
    "    \n",
    "    all_players_info = commonallplayers.CommonAllPlayers(league_id='00')\n",
    "    all_players_df = all_players_info.get_data_frames()[0]\n",
    "    all_players = all_players_df.PERSON_ID\n",
    "\n",
    "    return all_players"
   ]
  },
  {
   "attachments": {},
   "cell_type": "markdown",
   "metadata": {},
   "source": [
    "## Testing awards_perplayer Function"
   ]
  },
  {
   "cell_type": "code",
   "execution_count": 7,
   "metadata": {},
   "outputs": [],
   "source": [
    "def awards_perplayer(player_id, player_awards_df, missing, mode=['first','recall']):\n",
    "\n",
    "    if mode=='first':\n",
    "        try:\n",
    "            player_awards_info = playerawards.PlayerAwards(player_id=player_id)\n",
    "            df_append = player_awards_info.get_data_frames()[0]\n",
    "            player_awards_df = pd.concat([player_awards_df, df_append], ignore_index=True)\n",
    "\n",
    "        except:\n",
    "            t = time.localtime()\n",
    "            current_time = time.strftime(\"%H:%M:%S\", t)\n",
    "\n",
    "            missing.append(player_id)\n",
    "\n",
    "            print(f'ERROR: Failed to retrieve data from player {player_id} at {current_time}.\\nAdded to the missing list.')\n",
    "            pass\n",
    "        \n",
    "        return player_awards_df, missing\n",
    "\n",
    "    elif mode=='recall':\n",
    "\n",
    "        player_awards_info = playerawards.PlayerAwards(player_id=player_id)\n",
    "        df_append = player_awards_info.get_data_frames()[0]\n",
    "        player_awards_df = pd.concat([player_awards_df, df_append], ignore_index=True)\n",
    "        \n",
    "        return player_awards_df, missing"
   ]
  },
  {
   "cell_type": "code",
   "execution_count": 8,
   "metadata": {},
   "outputs": [],
   "source": [
    "def awards_allplayers(all_players=None, attempts=5):\n",
    "\n",
    "    if all_players:\n",
    "        pass\n",
    "    else:\n",
    "        all_players = all_playersids()\n",
    "\n",
    "    size = len(all_players)\n",
    "    \n",
    "    player_awards_df = pd.DataFrame()\n",
    "    missing = []    \n",
    "\n",
    "    for i, player_id in enumerate(all_players):\n",
    "        player_awards_df, missing = awards_perplayer(player_id, player_awards_df, missing, mode='first')\n",
    "        print(f'Progress --> {i+1}/{size}')\n",
    "\n",
    "    if missing:\n",
    "\n",
    "        size = len(missing)\n",
    "\n",
    "        print(f'Total missing players: {size}')\n",
    "        print(f'Starting the api`s recall for the following missing players: \\n{missing}')\n",
    "\n",
    "        for i, player_id in enumerate(missing):\n",
    "            \n",
    "            for attempt in range(0, attempts):\n",
    "\n",
    "                print(f'Attempt --> {attempt+1}')\n",
    "\n",
    "                try:\n",
    "                    player_awards_df, missing = awards_perplayer(player_id, player_awards_df, missing, mode='recall')\n",
    "                    print(f'Progress --> {i+1}/{size}')\n",
    "\n",
    "                    str_error = None\n",
    "\n",
    "                except Exception as e:\n",
    "\n",
    "                    t = time.localtime()\n",
    "                    current_time = time.strftime(\"%H:%M:%S\", t)\n",
    "\n",
    "                    print(f'ERROR: Failed to retrieve data from player {player_id} at {current_time}')\n",
    "\n",
    "                    str_error = str(e)\n",
    "\n",
    "                if str_error:\n",
    "                    pass\n",
    "\n",
    "                else:\n",
    "                    break\n",
    "\n",
    "        df_ids = player_awards_df.PERSON_ID.unique()\n",
    "        still_missing = [x for x in all_players if x not in df_ids]\n",
    "\n",
    "    return player_awards_df, still_missing"
   ]
  },
  {
   "cell_type": "code",
   "execution_count": null,
   "metadata": {},
   "outputs": [],
   "source": [
    "player_awards_df, missing = awards_allplayers(attempts=5)"
   ]
  },
  {
   "cell_type": "code",
   "execution_count": null,
   "metadata": {},
   "outputs": [],
   "source": [
    "player_awards_df"
   ]
  },
  {
   "cell_type": "code",
   "execution_count": null,
   "metadata": {},
   "outputs": [],
   "source": [
    "missing"
   ]
  },
  {
   "attachments": {},
   "cell_type": "markdown",
   "metadata": {},
   "source": [
    "## Testing manage_data Function"
   ]
  },
  {
   "cell_type": "code",
   "execution_count": 2,
   "metadata": {},
   "outputs": [],
   "source": [
    "def manage_data(filename, df=pd.DataFrame(), action=['store','load']):\n",
    "\n",
    "    path = f'../dataframes/{filename}.pkl'\n",
    "\n",
    "    if action == 'store':\n",
    "        if df.empty:\n",
    "            print('You must pass a Dataframe to be stored.')\n",
    "        else:\n",
    "            joblib.dump(df, path)\n",
    "\n",
    "    elif action == 'load':\n",
    "        df = joblib.load(path)\n",
    "        return df"
   ]
  },
  {
   "cell_type": "code",
   "execution_count": null,
   "metadata": {},
   "outputs": [],
   "source": [
    "manage_data(filename='playersawards', df=player_awards_df, action='store')"
   ]
  }
 ],
 "metadata": {
  "kernelspec": {
   "display_name": ".venv",
   "language": "python",
   "name": "python3"
  },
  "language_info": {
   "codemirror_mode": {
    "name": "ipython",
    "version": 3
   },
   "file_extension": ".py",
   "mimetype": "text/x-python",
   "name": "python",
   "nbconvert_exporter": "python",
   "pygments_lexer": "ipython3",
   "version": "3.11.3"
  },
  "orig_nbformat": 4,
  "vscode": {
   "interpreter": {
    "hash": "a9ea80278e1093bfa5c405612aca9941bc8a774c96bd5ddafc79043d2f71b61b"
   }
  }
 },
 "nbformat": 4,
 "nbformat_minor": 2
}
